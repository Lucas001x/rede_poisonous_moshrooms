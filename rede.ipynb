{
 "cells": [
  {
   "cell_type": "code",
   "execution_count": 2,
   "metadata": {},
   "outputs": [
    {
     "name": "stderr",
     "output_type": "stream",
     "text": [
      "2024-09-23 20:52:43.636561: I tensorflow/core/util/port.cc:153] oneDNN custom operations are on. You may see slightly different numerical results due to floating-point round-off errors from different computation orders. To turn them off, set the environment variable `TF_ENABLE_ONEDNN_OPTS=0`.\n",
      "2024-09-23 20:52:43.655987: I external/local_xla/xla/tsl/cuda/cudart_stub.cc:32] Could not find cuda drivers on your machine, GPU will not be used.\n",
      "2024-09-23 20:52:43.847729: I external/local_xla/xla/tsl/cuda/cudart_stub.cc:32] Could not find cuda drivers on your machine, GPU will not be used.\n",
      "2024-09-23 20:52:44.096639: E external/local_xla/xla/stream_executor/cuda/cuda_fft.cc:485] Unable to register cuFFT factory: Attempting to register factory for plugin cuFFT when one has already been registered\n",
      "2024-09-23 20:52:44.245780: E external/local_xla/xla/stream_executor/cuda/cuda_dnn.cc:8454] Unable to register cuDNN factory: Attempting to register factory for plugin cuDNN when one has already been registered\n",
      "2024-09-23 20:52:44.285898: E external/local_xla/xla/stream_executor/cuda/cuda_blas.cc:1452] Unable to register cuBLAS factory: Attempting to register factory for plugin cuBLAS when one has already been registered\n",
      "2024-09-23 20:52:44.566244: I tensorflow/core/platform/cpu_feature_guard.cc:210] This TensorFlow binary is optimized to use available CPU instructions in performance-critical operations.\n",
      "To enable the following instructions: AVX2 AVX512F AVX512_VNNI FMA, in other operations, rebuild TensorFlow with the appropriate compiler flags.\n",
      "2024-09-23 20:52:45.805616: W tensorflow/compiler/tf2tensorrt/utils/py_utils.cc:38] TF-TRT Warning: Could not find TensorRT\n"
     ]
    }
   ],
   "source": [
    "import pandas as pd\n",
    "from keras.models import Sequential\n",
    "from keras.layers import Dense\n",
    "import numpy as np\n",
    "import seaborn as sns\n",
    "from sklearn.preprocessing import LabelEncoder"
   ]
  },
  {
   "cell_type": "code",
   "execution_count": 3,
   "metadata": {},
   "outputs": [],
   "source": [
    "df = pd.read_csv(\"train.csv\")"
   ]
  },
  {
   "cell_type": "code",
   "execution_count": 5,
   "metadata": {},
   "outputs": [],
   "source": [
    "#Retirando coluna id do usuario\n",
    "df.drop(['id'], axis=1, inplace=True)\n",
    "df_train.drop(['id'], axis=1, inplace=True)\n",
    "\n",
    "label_encoder = LabelEncoder()\n",
    "df['class'] = label_encoder.fit_transform(df['class'])\n",
    "Y_train = df.iloc[:, 0].values.astype(np.float32)\n",
    "\n",
    "df.drop(['class'], axis=1, inplace=True)\n"
   ]
  },
  {
   "cell_type": "code",
   "execution_count": 7,
   "metadata": {},
   "outputs": [
    {
     "name": "stdout",
     "output_type": "stream",
     "text": [
      "cap-diameter            3913\n",
      "cap-shape                 74\n",
      "cap-surface               83\n",
      "cap-color                 78\n",
      "does-bruise-or-bleed      26\n",
      "gill-attachment           78\n",
      "gill-spacing              48\n",
      "gill-color                63\n",
      "stem-height             2749\n",
      "stem-width              5836\n",
      "stem-root                 38\n",
      "stem-surface              60\n",
      "stem-color                59\n",
      "veil-type                 22\n",
      "veil-color                24\n",
      "has-ring                  23\n",
      "ring-type                 40\n",
      "spore-print-color         32\n",
      "habitat                   52\n",
      "season                     4\n",
      "dtype: int64\n"
     ]
    }
   ],
   "source": [
    "print(df.nunique(axis=0))"
   ]
  },
  {
   "cell_type": "code",
   "execution_count": 8,
   "metadata": {},
   "outputs": [
    {
     "name": "stdout",
     "output_type": "stream",
     "text": [
      "0\n"
     ]
    }
   ],
   "source": [
    "#removendo dados duplicados\n",
    "dublicados = df.duplicated().sum()\n",
    "print(dublicados)"
   ]
  },
  {
   "cell_type": "markdown",
   "metadata": {},
   "source": [
    "### defido a quantidade de dados faltantes seria inadequado a remocao dos devidos dados. Entao uma viavel solucao seria a criacao de uma nova classe chamada desconhecido."
   ]
  },
  {
   "cell_type": "code",
   "execution_count": 9,
   "metadata": {},
   "outputs": [
    {
     "data": {
      "text/plain": [
       "veil-type               2957493\n",
       "spore-print-color       2849682\n",
       "stem-root               2757023\n",
       "veil-color              2740947\n",
       "stem-surface            1980861\n",
       "gill-spacing            1258435\n",
       "cap-surface              671023\n",
       "gill-attachment          523936\n",
       "ring-type                128880\n",
       "gill-color                   57\n",
       "habitat                      45\n",
       "cap-shape                    40\n",
       "stem-color                   38\n",
       "has-ring                     24\n",
       "cap-color                    12\n",
       "does-bruise-or-bleed          8\n",
       "cap-diameter                  4\n",
       "stem-width                    0\n",
       "stem-height                   0\n",
       "season                        0\n",
       "dtype: int64"
      ]
     },
     "execution_count": 9,
     "metadata": {},
     "output_type": "execute_result"
    }
   ],
   "source": [
    "#verificando se possui coluna vazia\n",
    "df.isnull().sum().sort_values(ascending=False).head(20)"
   ]
  },
  {
   "cell_type": "code",
   "execution_count": 10,
   "metadata": {},
   "outputs": [
    {
     "name": "stdout",
     "output_type": "stream",
     "text": [
      "Index(['cap-shape', 'cap-surface', 'cap-color', 'does-bruise-or-bleed',\n",
      "       'gill-attachment', 'gill-spacing', 'gill-color', 'stem-root',\n",
      "       'stem-surface', 'stem-color', 'veil-type', 'veil-color', 'has-ring',\n",
      "       'ring-type', 'spore-print-color', 'habitat'],\n",
      "      dtype='object')\n"
     ]
    }
   ],
   "source": [
    "coln_null = df.columns[df_train.isnull().any() & (df.dtypes != 'float64') & (df.dtypes != 'int64')]\n",
    "coln_null_train = df_train.columns[df_train.isnull().any() & (df_train.dtypes != 'float64') & (df_train.dtypes != 'int64')]\n",
    "print(coln_null_train)"
   ]
  },
  {
   "cell_type": "code",
   "execution_count": 11,
   "metadata": {},
   "outputs": [],
   "source": [
    "df[coln_null] = df[coln_null].fillna('not_registered')\n",
    "df_train[coln_null_train] = df_train[coln_null_train].fillna('not_registered')"
   ]
  },
  {
   "cell_type": "code",
   "execution_count": 15,
   "metadata": {},
   "outputs": [
    {
     "data": {
      "text/plain": [
       "cap-diameter      float64\n",
       "stem-height       float64\n",
       "stem-width        float64\n",
       "cap-shape_0.82       bool\n",
       "cap-shape_1.66       bool\n",
       "                   ...   \n",
       "habitat_z            bool\n",
       "season_a             bool\n",
       "season_s             bool\n",
       "season_u             bool\n",
       "season_w             bool\n",
       "Length: 823, dtype: object"
      ]
     },
     "execution_count": 15,
     "metadata": {},
     "output_type": "execute_result"
    }
   ],
   "source": [
    "df.dtypes"
   ]
  },
  {
   "cell_type": "code",
   "execution_count": 12,
   "metadata": {},
   "outputs": [],
   "source": [
    "#fazendo one hot em todas as colunas que tiver mais de duas variaveis\n",
    "'''\n",
    "    Seleciona as colunas de strings do DataFrame usando select_dtypes\n",
    "    pd.get_dummies(): Aplica o One-Hot Encoding diretamente nessas colunas.\n",
    "'''\n",
    "\n",
    "df = pd.get_dummies(df, columns=df.select_dtypes(include=['object']).columns)\n"
   ]
  },
  {
   "cell_type": "code",
   "execution_count": null,
   "metadata": {},
   "outputs": [],
   "source": [
    "# Seleciona todas as colunas de características, exceto a coluna de saída (coluna 8)\n",
    "X_train = df.iloc[:, :822].values.astype(np.float32)\n"
   ]
  },
  {
   "cell_type": "code",
   "execution_count": null,
   "metadata": {},
   "outputs": [],
   "source": [
    "from sklearn.model_selection import train_test_split\n",
    "X_train, X_test, Y_train, Y_test = train_test_split(X_train, Y_train, test_size=0.25)"
   ]
  },
  {
   "cell_type": "code",
   "execution_count": null,
   "metadata": {},
   "outputs": [],
   "source": [
    "classificador = Sequential()\n",
    "classificador.add(Dense(units =1645, activation = 'relu', input_dim = 822))\n",
    "classificador.add(Dense(units = 822, activation = 'relu'))\n",
    "classificador.add(Dense(units = 128, activation = 'relu'))\n",
    "classificador.add(Dense(units = 1, activation = 'sigmoid'))\n",
    "classificador.compile(optimizer = 'adam', loss = 'binary_crossentropy',\n",
    "                      metrics = ['binary_accuracy'])\n",
    "classificador.summary()"
   ]
  },
  {
   "cell_type": "code",
   "execution_count": null,
   "metadata": {},
   "outputs": [],
   "source": [
    "history = classificador.fit(X_train, Y_train, batch_size = 200,epochs = 20, verbose = 1, validation_split=0.2)"
   ]
  },
  {
   "cell_type": "code",
   "execution_count": null,
   "metadata": {},
   "outputs": [],
   "source": [
    "resultado = classificador.evaluate(X_test, Y_test, verbose=1)\n",
    "\n",
    "previsoes = classificador.predict(X_test)\n",
    "\n",
    "previsoes = (previsoes > 0.5).astype(int)\n",
    "\n",
    "classe_teste = (Y_test > 0.5).astype(int)\n",
    "\n",
    "from sklearn.metrics import confusion_matrix\n",
    "matriz = confusion_matrix(classe_teste, previsoes)\n",
    "\n",
    "print(matriz)\n"
   ]
  }
 ],
 "metadata": {
  "kernelspec": {
   "display_name": "rede",
   "language": "python",
   "name": "python3"
  },
  "language_info": {
   "codemirror_mode": {
    "name": "ipython",
    "version": 3
   },
   "file_extension": ".py",
   "mimetype": "text/x-python",
   "name": "python",
   "nbconvert_exporter": "python",
   "pygments_lexer": "ipython3",
   "version": "3.12.3"
  }
 },
 "nbformat": 4,
 "nbformat_minor": 2
}
