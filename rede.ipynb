{
 "cells": [
  {
   "cell_type": "code",
   "execution_count": 1,
   "metadata": {},
   "outputs": [
    {
     "name": "stderr",
     "output_type": "stream",
     "text": [
      "2024-09-22 12:50:56.110510: I tensorflow/core/util/port.cc:153] oneDNN custom operations are on. You may see slightly different numerical results due to floating-point round-off errors from different computation orders. To turn them off, set the environment variable `TF_ENABLE_ONEDNN_OPTS=0`.\n",
      "2024-09-22 12:50:56.130352: I external/local_xla/xla/tsl/cuda/cudart_stub.cc:32] Could not find cuda drivers on your machine, GPU will not be used.\n",
      "2024-09-22 12:50:56.322821: I external/local_xla/xla/tsl/cuda/cudart_stub.cc:32] Could not find cuda drivers on your machine, GPU will not be used.\n",
      "2024-09-22 12:50:56.508683: E external/local_xla/xla/stream_executor/cuda/cuda_fft.cc:485] Unable to register cuFFT factory: Attempting to register factory for plugin cuFFT when one has already been registered\n",
      "2024-09-22 12:50:56.676564: E external/local_xla/xla/stream_executor/cuda/cuda_dnn.cc:8454] Unable to register cuDNN factory: Attempting to register factory for plugin cuDNN when one has already been registered\n",
      "2024-09-22 12:50:56.719173: E external/local_xla/xla/stream_executor/cuda/cuda_blas.cc:1452] Unable to register cuBLAS factory: Attempting to register factory for plugin cuBLAS when one has already been registered\n",
      "2024-09-22 12:50:57.002798: I tensorflow/core/platform/cpu_feature_guard.cc:210] This TensorFlow binary is optimized to use available CPU instructions in performance-critical operations.\n",
      "To enable the following instructions: AVX2 AVX512F AVX512_VNNI FMA, in other operations, rebuild TensorFlow with the appropriate compiler flags.\n",
      "2024-09-22 12:50:58.255067: W tensorflow/compiler/tf2tensorrt/utils/py_utils.cc:38] TF-TRT Warning: Could not find TensorRT\n"
     ]
    }
   ],
   "source": [
    "import pandas as pd\n",
    "from keras.models import Sequential\n",
    "from keras.layers import Dense\n",
    "import numpy as np\n",
    "import seaborn as sns\n",
    "from sklearn.preprocessing import LabelEncoder"
   ]
  },
  {
   "cell_type": "code",
   "execution_count": 2,
   "metadata": {},
   "outputs": [],
   "source": [
    "df = pd.read_csv(\"train.csv\")\n",
    "df_train = pd.read_csv(\"test.csv\")"
   ]
  },
  {
   "cell_type": "code",
   "execution_count": 6,
   "metadata": {},
   "outputs": [],
   "source": [
    "#Retirando coluna id do usuario\n",
    "df.drop(['id'], axis=1, inplace=True)\n",
    "df.drop(['id'], axis=1, inplace=True)"
   ]
  },
  {
   "cell_type": "code",
   "execution_count": 7,
   "metadata": {},
   "outputs": [
    {
     "name": "stdout",
     "output_type": "stream",
     "text": [
      "class                      2\n",
      "cap-diameter            3913\n",
      "cap-shape                 74\n",
      "cap-surface               83\n",
      "cap-color                 78\n",
      "does-bruise-or-bleed      26\n",
      "gill-attachment           78\n",
      "gill-spacing              48\n",
      "gill-color                63\n",
      "stem-height             2749\n",
      "stem-width              5836\n",
      "stem-root                 38\n",
      "stem-surface              60\n",
      "stem-color                59\n",
      "veil-type                 22\n",
      "veil-color                24\n",
      "has-ring                  23\n",
      "ring-type                 40\n",
      "spore-print-color         32\n",
      "habitat                   52\n",
      "season                     4\n",
      "dtype: int64\n"
     ]
    }
   ],
   "source": [
    "print(df.nunique(axis=0))"
   ]
  },
  {
   "cell_type": "code",
   "execution_count": 8,
   "metadata": {},
   "outputs": [
    {
     "name": "stdout",
     "output_type": "stream",
     "text": [
      "0\n"
     ]
    }
   ],
   "source": [
    "#removendo dados duplicados\n",
    "dublicados = df.duplicated().sum()\n",
    "print(dublicados)"
   ]
  },
  {
   "cell_type": "markdown",
   "metadata": {},
   "source": [
    "### defido a quantidade de dados faltantes seria inadequado a remocao dos devidos dados. Entao uma viavel solucao seria a criacao de uma nova classe chamada desconhecido."
   ]
  },
  {
   "cell_type": "code",
   "execution_count": 10,
   "metadata": {},
   "outputs": [
    {
     "data": {
      "text/plain": [
       "veil-type               1971545\n",
       "spore-print-color       1899617\n",
       "stem-root               1838012\n",
       "veil-color              1826124\n",
       "stem-surface            1321488\n",
       "gill-spacing             839595\n",
       "cap-surface              446904\n",
       "gill-attachment          349821\n",
       "ring-type                 86195\n",
       "gill-color                   49\n",
       "cap-shape                    31\n",
       "habitat                      25\n",
       "stem-color                   21\n",
       "has-ring                     19\n",
       "cap-color                    13\n",
       "does-bruise-or-bleed         10\n",
       "cap-diameter                  7\n",
       "stem-height                   1\n",
       "id                            0\n",
       "stem-width                    0\n",
       "dtype: int64"
      ]
     },
     "execution_count": 10,
     "metadata": {},
     "output_type": "execute_result"
    }
   ],
   "source": [
    "#verificando se possui coluna vazia\n",
    "df.isnull().sum().sort_values(ascending=False).head(20)"
   ]
  },
  {
   "cell_type": "markdown",
   "metadata": {},
   "source": [
    "a ideia de usar py para a automatizacao de tarefas se da para polpar tempo e ou fazer algo que nos nao temos a capacidade. entao criar uma lista de colunas a mao sendo que poderia usar somente uma linha eh uma pura hipocresia."
   ]
  },
  {
   "cell_type": "code",
   "execution_count": null,
   "metadata": {},
   "outputs": [],
   "source": [
    "# coln_null = ['veil-type', 'spore-print-color','stem-root', 'veil-color', 'stem-surface', 'gill-spacing', 'cap-surface', 'gill-attachment', 'ring-type', 'gill-color', 'cap-shape', 'habitat', 'stem-color', 'has-ring', 'cap-color', 'does-bruise-or-bleed', 'cap-diameter', 'stem-height']"
   ]
  },
  {
   "cell_type": "code",
   "execution_count": 19,
   "metadata": {},
   "outputs": [],
   "source": [
    "coln_null = df.columns[df.isnull().any()]\n",
    "print(coln_null)"
   ]
  },
  {
   "cell_type": "code",
   "execution_count": 20,
   "metadata": {},
   "outputs": [
    {
     "name": "stdout",
     "output_type": "stream",
     "text": [
      "Index(['cap-diameter', 'cap-shape', 'cap-surface', 'cap-color',\n",
      "       'does-bruise-or-bleed', 'gill-attachment', 'gill-spacing', 'gill-color',\n",
      "       'stem-root', 'stem-surface', 'stem-color', 'veil-type', 'veil-color',\n",
      "       'has-ring', 'ring-type', 'spore-print-color', 'habitat'],\n",
      "      dtype='object')\n"
     ]
    }
   ],
   "source": []
  }
 ],
 "metadata": {
  "kernelspec": {
   "display_name": "rede",
   "language": "python",
   "name": "python3"
  },
  "language_info": {
   "codemirror_mode": {
    "name": "ipython",
    "version": 3
   },
   "file_extension": ".py",
   "mimetype": "text/x-python",
   "name": "python",
   "nbconvert_exporter": "python",
   "pygments_lexer": "ipython3",
   "version": "3.12.3"
  }
 },
 "nbformat": 4,
 "nbformat_minor": 2
}
